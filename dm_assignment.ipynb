{
 "cells": [
  {
   "cell_type": "markdown",
   "metadata": {},
   "source": [
    "# Dark Matter: Theories Beyond the Standard Model Assignment"
   ]
  },
  {
   "cell_type": "markdown",
   "metadata": {},
   "source": [
    "## Question 1: Theory and Simulation of the Matter Power Spectrum\n",
    "\n",
    "In the lecture, you learned the motivation for the matter power spectrum, an equation describing the matter density contrast of the universe. This equation tells us a lot about the properties of dark matter, such as its temperature, how it interacts with normal matter, and how long it has existed for. In this question, we will explore the individual components of the matter power spectrum by simulating it with a publicly available code called CHOMP."
   ]
  },
  {
   "cell_type": "markdown",
   "metadata": {},
   "source": [
    "### Cloning CHOMP from GitHub"
   ]
  },
  {
   "cell_type": "markdown",
   "metadata": {},
   "source": [
    "Step 1: Install Git on your device from this website: ____, and create a folder for your work."
   ]
  },
  {
   "cell_type": "markdown",
   "metadata": {},
   "source": [
    "Step 2: Open your folder in Spyder and open the Anaconda terminal to create a conda environment. Make sure to select \"Ubuntu\" as the terminal type. This is a virtual environment that you can install packages in, meaning you can simply run your code in the environment rather than have to reinstall packages every time you open the code. Type in the following to create your conda env:"
   ]
  },
  {
   "cell_type": "code",
   "execution_count": null,
   "metadata": {
    "vscode": {
     "languageId": "shellscript"
    }
   },
   "outputs": [],
   "source": [
    "conda create -n darkmatter-env python == 3.10 anaconda"
   ]
  },
  {
   "cell_type": "markdown",
   "metadata": {},
   "source": [
    "Note that it is VERY IMPORTANT that you specify a version of Python when you create your environment, or you may not be able to install packages. Now that you've created your conda environment, you can activate and deactivate it any time via the terminal by typing:"
   ]
  },
  {
   "cell_type": "code",
   "execution_count": null,
   "metadata": {
    "vscode": {
     "languageId": "shellscript"
    }
   },
   "outputs": [],
   "source": [
    "conda activate darkmatter-env"
   ]
  },
  {
   "cell_type": "code",
   "execution_count": null,
   "metadata": {
    "vscode": {
     "languageId": "shellscript"
    }
   },
   "outputs": [],
   "source": [
    "conda deactivate darkmatter-env"
   ]
  },
  {
   "cell_type": "markdown",
   "metadata": {},
   "source": [
    "Step 3: Open the folder you created in Step 1 using the \"cd\" command, then clone the dark-matter-module repository into it. This makes a copy of the repository on your device."
   ]
  },
  {
   "cell_type": "code",
   "execution_count": null,
   "metadata": {
    "vscode": {
     "languageId": "shellscript"
    }
   },
   "outputs": [],
   "source": [
    "conda activate darkmatter-env\n",
    "cd Folder\n",
    "git clone https://github.com/quasoph/dark-matter-module.git"
   ]
  },
  {
   "cell_type": "markdown",
   "metadata": {},
   "source": [
    "Step 4: Open the dark-matter-module folder that now lives in your device, and install the CHOMP dependencies, a.k.a. the packages required for CHOMP to run."
   ]
  },
  {
   "cell_type": "code",
   "execution_count": null,
   "metadata": {
    "vscode": {
     "languageId": "shellscript"
    }
   },
   "outputs": [],
   "source": [
    "cd dark-matter-module\n",
    "pip install -r requirements.txt"
   ]
  },
  {
   "cell_type": "markdown",
   "metadata": {},
   "source": [
    "That's all! By now you have successfully made a folder to keep your work in, created a conda environment to install packages in, and cloned the code you need into your folder. We can now start the assignment question!"
   ]
  }
 ],
 "metadata": {
  "language_info": {
   "name": "python"
  },
  "orig_nbformat": 4
 },
 "nbformat": 4,
 "nbformat_minor": 2
}
